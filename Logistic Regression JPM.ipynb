{
 "cells": [
  {
   "cell_type": "code",
   "execution_count": 64,
   "metadata": {
    "collapsed": true
   },
   "outputs": [],
   "source": [
    "import pandas as pd\n",
    "import numpy as np\n",
    "import seaborn as sns\n",
    "import matplotlib.pyplot as plt\n",
    "from sklearn.linear_model import LinearRegression\n",
    "from sklearn.linear_model import LogisticRegression\n",
    "from sklearn.metrics import classification_report,confusion_matrix,accuracy_score\n",
    "from sklearn.cross_validation import  cross_val_score\n",
    "%matplotlib inline\n",
    "from sklearn.model_selection import train_test_split"
   ]
  },
  {
   "cell_type": "code",
   "execution_count": 65,
   "metadata": {
    "collapsed": true
   },
   "outputs": [],
   "source": [
    "train_set=pd.read_csv('JPM1.csv')"
   ]
  },
  {
   "cell_type": "code",
   "execution_count": 66,
   "metadata": {
    "collapsed": true
   },
   "outputs": [],
   "source": [
    "test_set=pd.read_csv('JPM_test.csv')"
   ]
  },
  {
   "cell_type": "code",
   "execution_count": 67,
   "metadata": {
    "scrolled": true
   },
   "outputs": [
    {
     "data": {
      "text/html": [
       "<div>\n",
       "<style scoped>\n",
       "    .dataframe tbody tr th:only-of-type {\n",
       "        vertical-align: middle;\n",
       "    }\n",
       "\n",
       "    .dataframe tbody tr th {\n",
       "        vertical-align: top;\n",
       "    }\n",
       "\n",
       "    .dataframe thead th {\n",
       "        text-align: right;\n",
       "    }\n",
       "</style>\n",
       "<table border=\"1\" class=\"dataframe\">\n",
       "  <thead>\n",
       "    <tr style=\"text-align: right;\">\n",
       "      <th></th>\n",
       "      <th>Open</th>\n",
       "      <th>High</th>\n",
       "      <th>Low</th>\n",
       "      <th>Close</th>\n",
       "      <th>Adj Close</th>\n",
       "      <th>Volume</th>\n",
       "      <th>SMA</th>\n",
       "      <th>EMA</th>\n",
       "      <th>Gain</th>\n",
       "      <th>Loss</th>\n",
       "      <th>Average_Gain</th>\n",
       "      <th>Average_Loss</th>\n",
       "      <th>Relative_Strength</th>\n",
       "      <th>RSI</th>\n",
       "      <th>CMF</th>\n",
       "      <th>MFI</th>\n",
       "      <th>MACD</th>\n",
       "    </tr>\n",
       "  </thead>\n",
       "  <tbody>\n",
       "    <tr>\n",
       "      <th>0</th>\n",
       "      <td>39.650002</td>\n",
       "      <td>39.849998</td>\n",
       "      <td>38.799999</td>\n",
       "      <td>38.939999</td>\n",
       "      <td>32.127640</td>\n",
       "      <td>53649000</td>\n",
       "      <td>34.815667</td>\n",
       "      <td>34.007316</td>\n",
       "      <td>0.690002</td>\n",
       "      <td>0.000000</td>\n",
       "      <td>0.221429</td>\n",
       "      <td>0.571429</td>\n",
       "      <td>0.387500</td>\n",
       "      <td>27.927941</td>\n",
       "      <td>-0.542216</td>\n",
       "      <td>24.199356</td>\n",
       "      <td>0</td>\n",
       "    </tr>\n",
       "    <tr>\n",
       "      <th>1</th>\n",
       "      <td>39.099998</td>\n",
       "      <td>39.930000</td>\n",
       "      <td>38.950001</td>\n",
       "      <td>39.630001</td>\n",
       "      <td>32.696934</td>\n",
       "      <td>37408200</td>\n",
       "      <td>34.733574</td>\n",
       "      <td>33.882518</td>\n",
       "      <td>0.919998</td>\n",
       "      <td>0.000000</td>\n",
       "      <td>0.287143</td>\n",
       "      <td>0.497143</td>\n",
       "      <td>0.577586</td>\n",
       "      <td>36.612012</td>\n",
       "      <td>-0.531398</td>\n",
       "      <td>28.376660</td>\n",
       "      <td>1</td>\n",
       "    </tr>\n",
       "    <tr>\n",
       "      <th>2</th>\n",
       "      <td>39.799999</td>\n",
       "      <td>40.680000</td>\n",
       "      <td>39.700001</td>\n",
       "      <td>40.549999</td>\n",
       "      <td>33.455975</td>\n",
       "      <td>45968500</td>\n",
       "      <td>34.638693</td>\n",
       "      <td>33.841895</td>\n",
       "      <td>0.000000</td>\n",
       "      <td>0.259998</td>\n",
       "      <td>0.232857</td>\n",
       "      <td>0.515714</td>\n",
       "      <td>0.451524</td>\n",
       "      <td>31.106880</td>\n",
       "      <td>-0.528383</td>\n",
       "      <td>27.963170</td>\n",
       "      <td>0</td>\n",
       "    </tr>\n",
       "    <tr>\n",
       "      <th>3</th>\n",
       "      <td>40.580002</td>\n",
       "      <td>41.099998</td>\n",
       "      <td>40.169998</td>\n",
       "      <td>40.290001</td>\n",
       "      <td>33.241459</td>\n",
       "      <td>37373300</td>\n",
       "      <td>34.498846</td>\n",
       "      <td>33.784710</td>\n",
       "      <td>0.000000</td>\n",
       "      <td>1.940003</td>\n",
       "      <td>0.201429</td>\n",
       "      <td>0.654286</td>\n",
       "      <td>0.307860</td>\n",
       "      <td>23.539243</td>\n",
       "      <td>-0.554808</td>\n",
       "      <td>23.130063</td>\n",
       "      <td>0</td>\n",
       "    </tr>\n",
       "    <tr>\n",
       "      <th>4</th>\n",
       "      <td>39.790001</td>\n",
       "      <td>39.919998</td>\n",
       "      <td>38.349998</td>\n",
       "      <td>38.349998</td>\n",
       "      <td>31.640850</td>\n",
       "      <td>57211800</td>\n",
       "      <td>34.269068</td>\n",
       "      <td>33.580533</td>\n",
       "      <td>0.000000</td>\n",
       "      <td>0.049999</td>\n",
       "      <td>0.201429</td>\n",
       "      <td>0.585715</td>\n",
       "      <td>0.343903</td>\n",
       "      <td>25.589848</td>\n",
       "      <td>-0.586378</td>\n",
       "      <td>22.771638</td>\n",
       "      <td>0</td>\n",
       "    </tr>\n",
       "  </tbody>\n",
       "</table>\n",
       "</div>"
      ],
      "text/plain": [
       "        Open       High        Low      Close  Adj Close    Volume        SMA  \\\n",
       "0  39.650002  39.849998  38.799999  38.939999  32.127640  53649000  34.815667   \n",
       "1  39.099998  39.930000  38.950001  39.630001  32.696934  37408200  34.733574   \n",
       "2  39.799999  40.680000  39.700001  40.549999  33.455975  45968500  34.638693   \n",
       "3  40.580002  41.099998  40.169998  40.290001  33.241459  37373300  34.498846   \n",
       "4  39.790001  39.919998  38.349998  38.349998  31.640850  57211800  34.269068   \n",
       "\n",
       "         EMA      Gain      Loss  Average_Gain  Average_Loss  \\\n",
       "0  34.007316  0.690002  0.000000      0.221429      0.571429   \n",
       "1  33.882518  0.919998  0.000000      0.287143      0.497143   \n",
       "2  33.841895  0.000000  0.259998      0.232857      0.515714   \n",
       "3  33.784710  0.000000  1.940003      0.201429      0.654286   \n",
       "4  33.580533  0.000000  0.049999      0.201429      0.585715   \n",
       "\n",
       "   Relative_Strength        RSI       CMF        MFI  MACD  \n",
       "0           0.387500  27.927941 -0.542216  24.199356     0  \n",
       "1           0.577586  36.612012 -0.531398  28.376660     1  \n",
       "2           0.451524  31.106880 -0.528383  27.963170     0  \n",
       "3           0.307860  23.539243 -0.554808  23.130063     0  \n",
       "4           0.343903  25.589848 -0.586378  22.771638     0  "
      ]
     },
     "execution_count": 67,
     "metadata": {},
     "output_type": "execute_result"
    }
   ],
   "source": [
    "train_set.head()"
   ]
  },
  {
   "cell_type": "code",
   "execution_count": 68,
   "metadata": {},
   "outputs": [
    {
     "name": "stdout",
     "output_type": "stream",
     "text": [
      "<class 'pandas.core.frame.DataFrame'>\n",
      "RangeIndex: 1744 entries, 0 to 1743\n",
      "Data columns (total 17 columns):\n",
      "Open                 1744 non-null float64\n",
      "High                 1744 non-null float64\n",
      "Low                  1744 non-null float64\n",
      "Close                1744 non-null float64\n",
      "Adj Close            1744 non-null float64\n",
      "Volume               1744 non-null int64\n",
      "SMA                  1744 non-null float64\n",
      "EMA                  1744 non-null float64\n",
      "Gain                 1744 non-null float64\n",
      "Loss                 1744 non-null float64\n",
      "Average_Gain         1744 non-null float64\n",
      "Average_Loss         1744 non-null float64\n",
      "Relative_Strength    1744 non-null float64\n",
      "RSI                  1744 non-null float64\n",
      "CMF                  1744 non-null float64\n",
      "MFI                  1744 non-null float64\n",
      "MACD                 1744 non-null int64\n",
      "dtypes: float64(15), int64(2)\n",
      "memory usage: 231.7 KB\n"
     ]
    }
   ],
   "source": [
    "train_set.info()"
   ]
  },
  {
   "cell_type": "code",
   "execution_count": 69,
   "metadata": {},
   "outputs": [
    {
     "data": {
      "text/plain": [
       "0    1599\n",
       "1     145\n",
       "Name: MACD, dtype: int64"
      ]
     },
     "execution_count": 69,
     "metadata": {},
     "output_type": "execute_result"
    }
   ],
   "source": [
    "train_set['MACD'].value_counts()"
   ]
  },
  {
   "cell_type": "code",
   "execution_count": 5,
   "metadata": {
    "collapsed": true
   },
   "outputs": [],
   "source": [
    "#train_set[\"Adj Close\"] = train_set[\"Adj Close\"].map(lambda i: np.log(i) if i > 0 else 0)"
   ]
  },
  {
   "cell_type": "code",
   "execution_count": 110,
   "metadata": {
    "collapsed": true
   },
   "outputs": [],
   "source": [
    "y=train_set['MACD'].astype(int)\n",
    "X=train_set.drop(labels=['MACD','Volume','Average_Loss','Loss'],axis=1)\n",
    "test_set.drop(labels=['Volume','Average_Loss','Loss'],axis=1,inplace=True)"
   ]
  },
  {
   "cell_type": "code",
   "execution_count": 111,
   "metadata": {
    "collapsed": true
   },
   "outputs": [],
   "source": [
    "X_train, X_test, y_train, y_test = train_test_split(X, y, test_size=0.3)"
   ]
  },
  {
   "cell_type": "code",
   "execution_count": 85,
   "metadata": {
    "collapsed": true
   },
   "outputs": [],
   "source": [
    "lgmodel=LogisticRegression()"
   ]
  },
  {
   "cell_type": "code",
   "execution_count": 112,
   "metadata": {},
   "outputs": [
    {
     "data": {
      "text/plain": [
       "LogisticRegression(C=1.0, class_weight=None, dual=False, fit_intercept=True,\n",
       "          intercept_scaling=1, max_iter=100, multi_class='ovr', n_jobs=1,\n",
       "          penalty='l2', random_state=None, solver='liblinear', tol=0.0001,\n",
       "          verbose=0, warm_start=False)"
      ]
     },
     "execution_count": 112,
     "metadata": {},
     "output_type": "execute_result"
    }
   ],
   "source": [
    "lgmodel.fit(X_train,y_train)"
   ]
  },
  {
   "cell_type": "code",
   "execution_count": 113,
   "metadata": {
    "collapsed": true
   },
   "outputs": [],
   "source": [
    "pred=lgmodel.predict(X_test)"
   ]
  },
  {
   "cell_type": "code",
   "execution_count": 114,
   "metadata": {},
   "outputs": [
    {
     "name": "stdout",
     "output_type": "stream",
     "text": [
      "0.9007633587786259\n"
     ]
    }
   ],
   "source": [
    "print(accuracy_score(y_test,pred))"
   ]
  },
  {
   "cell_type": "code",
   "execution_count": 115,
   "metadata": {},
   "outputs": [
    {
     "name": "stdout",
     "output_type": "stream",
     "text": [
      "[[463  10]\n",
      " [ 42   9]]\n"
     ]
    }
   ],
   "source": [
    "print(confusion_matrix(y_test,pred))"
   ]
  },
  {
   "cell_type": "code",
   "execution_count": 90,
   "metadata": {
    "collapsed": true
   },
   "outputs": [],
   "source": [
    "test_set.drop(labels=['Volume','Average_Loss'],axis=1,inplace=True)"
   ]
  },
  {
   "cell_type": "code",
   "execution_count": 100,
   "metadata": {
    "collapsed": true
   },
   "outputs": [],
   "source": [
    "test_set.drop(labels=['Loss'],axis=1,inplace=True)"
   ]
  },
  {
   "cell_type": "code",
   "execution_count": 116,
   "metadata": {
    "collapsed": true
   },
   "outputs": [],
   "source": [
    "predictions=lgmodel.predict(test_set)"
   ]
  },
  {
   "cell_type": "code",
   "execution_count": 79,
   "metadata": {
    "collapsed": true
   },
   "outputs": [],
   "source": [
    "comp=pd.read_csv('JPM_test_OP.csv')"
   ]
  },
  {
   "cell_type": "code",
   "execution_count": 117,
   "metadata": {},
   "outputs": [
    {
     "name": "stdout",
     "output_type": "stream",
     "text": [
      "94.39999999999999\n"
     ]
    }
   ],
   "source": [
    "print(accuracy_score(comp['MACD'],predictions)*100)"
   ]
  },
  {
   "cell_type": "code",
   "execution_count": 119,
   "metadata": {},
   "outputs": [
    {
     "name": "stdout",
     "output_type": "stream",
     "text": [
      "[[232   1]\n",
      " [ 13   4]]\n"
     ]
    }
   ],
   "source": [
    "print(confusion_matrix(comp['MACD'],predictions))"
   ]
  },
  {
   "cell_type": "code",
   "execution_count": null,
   "metadata": {
    "collapsed": true
   },
   "outputs": [],
   "source": []
  },
  {
   "cell_type": "code",
   "execution_count": null,
   "metadata": {
    "collapsed": true
   },
   "outputs": [],
   "source": []
  }
 ],
 "metadata": {
  "kernelspec": {
   "display_name": "Python 3",
   "language": "python",
   "name": "python3"
  },
  "language_info": {
   "codemirror_mode": {
    "name": "ipython",
    "version": 3
   },
   "file_extension": ".py",
   "mimetype": "text/x-python",
   "name": "python",
   "nbconvert_exporter": "python",
   "pygments_lexer": "ipython3",
   "version": "3.6.3"
  }
 },
 "nbformat": 4,
 "nbformat_minor": 2
}
