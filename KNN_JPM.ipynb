{
 "cells": [
  {
   "cell_type": "code",
   "execution_count": 1,
   "metadata": {},
   "outputs": [
    {
     "name": "stderr",
     "output_type": "stream",
     "text": [
      "/home/harsh/anaconda3/lib/python3.6/site-packages/sklearn/cross_validation.py:41: DeprecationWarning: This module was deprecated in version 0.18 in favor of the model_selection module into which all the refactored classes and functions are moved. Also note that the interface of the new CV iterators are different from that of this module. This module will be removed in 0.20.\n",
      "  \"This module will be removed in 0.20.\", DeprecationWarning)\n"
     ]
    }
   ],
   "source": [
    "import pandas as pd\n",
    "import numpy as np\n",
    "import seaborn as sns\n",
    "import matplotlib.pyplot as plt\n",
    "from sklearn.linear_model import LinearRegression\n",
    "from sklearn.metrics import classification_report,confusion_matrix,accuracy_score\n",
    "from sklearn.cross_validation import  cross_val_score\n",
    "%matplotlib inline\n",
    "from sklearn.model_selection import train_test_split\n",
    "from sklearn import metrics"
   ]
  },
  {
   "cell_type": "code",
   "execution_count": 2,
   "metadata": {
    "collapsed": true
   },
   "outputs": [],
   "source": [
    "train_set=pd.read_csv('JPM1.csv')\n",
    "test_set=pd.read_csv('JPM_test.csv')\n",
    "y=train_set['MACD'].astype(int)\n",
    "X=train_set.drop(labels=['MACD','Volume','Average_Loss','Loss'],axis=1)\n",
    "test_set.drop(labels=['Volume','Average_Loss','Loss'],axis=1,inplace=True)\n",
    "\n",
    "X_train, X_test, y_train, y_test = train_test_split(X, y, test_size=0.3)\n",
    "from sklearn.neighbors import KNeighborsClassifier\n",
    "knn = KNeighborsClassifier(n_neighbors=30)"
   ]
  },
  {
   "cell_type": "code",
   "execution_count": 5,
   "metadata": {},
   "outputs": [
    {
     "data": {
      "text/plain": [
       "KNeighborsClassifier(algorithm='auto', leaf_size=30, metric='minkowski',\n",
       "           metric_params=None, n_jobs=1, n_neighbors=30, p=2,\n",
       "           weights='uniform')"
      ]
     },
     "execution_count": 5,
     "metadata": {},
     "output_type": "execute_result"
    }
   ],
   "source": [
    "knn.fit(X_train,y_train)"
   ]
  },
  {
   "cell_type": "code",
   "execution_count": 6,
   "metadata": {
    "collapsed": true
   },
   "outputs": [],
   "source": [
    "pred = knn.predict(X_test)\n",
    "\n",
    "print(confusion_matrix(y_test,pred))"
   ]
  },
  {
   "cell_type": "code",
   "execution_count": 9,
   "metadata": {},
   "outputs": [
    {
     "name": "stdout",
     "output_type": "stream",
     "text": [
      "90.2671755725191\n"
     ]
    }
   ],
   "source": [
    "print(accuracy_score(y_test.astype(int),pred)*100)"
   ]
  },
  {
   "cell_type": "code",
   "execution_count": 10,
   "metadata": {
    "collapsed": true
   },
   "outputs": [],
   "source": [
    "predictions=knn.predict(test_set)"
   ]
  },
  {
   "cell_type": "code",
   "execution_count": 11,
   "metadata": {
    "collapsed": true
   },
   "outputs": [],
   "source": [
    "comp=pd.read_csv('JPM_test_OP.csv')"
   ]
  },
  {
   "cell_type": "code",
   "execution_count": 12,
   "metadata": {},
   "outputs": [
    {
     "name": "stdout",
     "output_type": "stream",
     "text": [
      "93.2\n"
     ]
    }
   ],
   "source": [
    "print(accuracy_score(comp['MACD'],predictions)*100)"
   ]
  },
  {
   "cell_type": "code",
   "execution_count": 13,
   "metadata": {},
   "outputs": [
    {
     "name": "stdout",
     "output_type": "stream",
     "text": [
      "[[233   0]\n",
      " [ 17   0]]\n"
     ]
    }
   ],
   "source": [
    "print(confusion_matrix(comp['MACD'],predictions))"
   ]
  },
  {
   "cell_type": "code",
   "execution_count": null,
   "metadata": {
    "collapsed": true
   },
   "outputs": [],
   "source": []
  },
  {
   "cell_type": "code",
   "execution_count": 133,
   "metadata": {
    "collapsed": true
   },
   "outputs": [
    {
     "data": {
      "text/plain": [
       "array([20.08553692, 54.59815003, 54.59815003, 54.59815003, 54.59815003,\n",
       "       54.59815003, 54.59815003, 20.08553692, 20.08553692, 20.08553692,\n",
       "       20.08553692, 54.59815003, 20.08553692, 54.59815003, 54.59815003,\n",
       "       20.08553692, 20.08553692, 54.59815003, 54.59815003, 20.08553692,\n",
       "       54.59815003, 54.59815003, 20.08553692, 54.59815003, 54.59815003,\n",
       "       54.59815003, 54.59815003, 54.59815003, 20.08553692, 20.08553692,\n",
       "       20.08553692, 20.08553692, 20.08553692, 54.59815003, 54.59815003,\n",
       "       54.59815003, 54.59815003, 54.59815003, 54.59815003, 20.08553692,\n",
       "       54.59815003, 54.59815003, 54.59815003, 54.59815003, 20.08553692,\n",
       "       54.59815003, 54.59815003, 54.59815003, 54.59815003, 54.59815003,\n",
       "       54.59815003, 20.08553692, 54.59815003, 20.08553692, 20.08553692,\n",
       "       20.08553692, 20.08553692, 54.59815003, 20.08553692, 54.59815003,\n",
       "       54.59815003, 20.08553692, 20.08553692, 54.59815003, 20.08553692,\n",
       "       54.59815003, 54.59815003, 54.59815003, 54.59815003, 54.59815003,\n",
       "       20.08553692, 20.08553692, 54.59815003, 20.08553692, 54.59815003,\n",
       "       20.08553692, 20.08553692, 20.08553692, 54.59815003, 54.59815003,\n",
       "       54.59815003, 20.08553692, 54.59815003, 54.59815003, 54.59815003,\n",
       "       54.59815003, 54.59815003, 54.59815003, 54.59815003, 54.59815003,\n",
       "       54.59815003, 54.59815003, 54.59815003, 20.08553692, 20.08553692,\n",
       "       54.59815003, 54.59815003, 54.59815003, 54.59815003, 54.59815003,\n",
       "       54.59815003, 54.59815003, 20.08553692, 20.08553692, 54.59815003,\n",
       "       54.59815003, 54.59815003, 54.59815003, 20.08553692, 20.08553692,\n",
       "       20.08553692, 54.59815003, 20.08553692, 54.59815003, 20.08553692,\n",
       "       20.08553692, 54.59815003, 54.59815003, 54.59815003, 20.08553692,\n",
       "       54.59815003, 54.59815003, 20.08553692, 20.08553692, 20.08553692,\n",
       "       54.59815003, 20.08553692, 54.59815003, 54.59815003, 54.59815003,\n",
       "       54.59815003, 54.59815003, 54.59815003, 20.08553692, 54.59815003,\n",
       "       54.59815003, 54.59815003, 54.59815003, 54.59815003, 54.59815003,\n",
       "       20.08553692, 54.59815003, 54.59815003, 54.59815003, 54.59815003,\n",
       "       54.59815003, 54.59815003, 54.59815003, 54.59815003, 54.59815003,\n",
       "       54.59815003, 54.59815003, 54.59815003, 54.59815003, 54.59815003,\n",
       "       54.59815003, 54.59815003, 54.59815003, 54.59815003, 54.59815003,\n",
       "       54.59815003, 54.59815003, 54.59815003, 54.59815003, 54.59815003,\n",
       "       54.59815003, 54.59815003, 54.59815003, 54.59815003, 20.08553692,\n",
       "       54.59815003, 54.59815003, 54.59815003, 54.59815003, 54.59815003,\n",
       "       54.59815003, 54.59815003, 20.08553692, 54.59815003, 54.59815003,\n",
       "       54.59815003, 54.59815003, 54.59815003, 54.59815003, 54.59815003,\n",
       "       54.59815003, 54.59815003, 54.59815003, 20.08553692, 54.59815003,\n",
       "       54.59815003, 54.59815003, 54.59815003, 54.59815003, 54.59815003,\n",
       "       54.59815003, 20.08553692, 54.59815003, 54.59815003, 54.59815003,\n",
       "       54.59815003, 54.59815003, 54.59815003, 54.59815003, 54.59815003,\n",
       "       54.59815003, 54.59815003, 54.59815003, 54.59815003, 54.59815003,\n",
       "       54.59815003, 54.59815003, 54.59815003, 54.59815003, 20.08553692,\n",
       "       20.08553692, 54.59815003, 54.59815003, 54.59815003, 54.59815003,\n",
       "       54.59815003, 54.59815003, 54.59815003, 54.59815003, 54.59815003,\n",
       "       54.59815003, 54.59815003, 54.59815003, 20.08553692, 20.08553692,\n",
       "       20.08553692, 20.08553692, 20.08553692, 20.08553692, 54.59815003,\n",
       "       54.59815003, 54.59815003, 54.59815003, 54.59815003, 54.59815003,\n",
       "       54.59815003, 20.08553692, 54.59815003, 54.59815003, 54.59815003,\n",
       "       54.59815003, 54.59815003, 54.59815003, 54.59815003, 54.59815003])"
      ]
     },
     "execution_count": 133,
     "metadata": {},
     "output_type": "execute_result"
    }
   ],
   "source": [
    "np.exp(predictions)"
   ]
  },
  {
   "cell_type": "code",
   "execution_count": null,
   "metadata": {
    "collapsed": true
   },
   "outputs": [],
   "source": []
  },
  {
   "cell_type": "code",
   "execution_count": 14,
   "metadata": {
    "collapsed": true
   },
   "outputs": [],
   "source": [
    "from sklearn.svm import SVC"
   ]
  },
  {
   "cell_type": "code",
   "execution_count": 15,
   "metadata": {
    "collapsed": true
   },
   "outputs": [],
   "source": [
    "model = SVC()"
   ]
  },
  {
   "cell_type": "code",
   "execution_count": 77,
   "metadata": {
    "collapsed": true
   },
   "outputs": [
    {
     "data": {
      "text/plain": [
       "146     3.410227\n",
       "1028    3.925572\n",
       "919     3.801021\n",
       "130     3.530315\n",
       "802     3.760621\n",
       "1065    3.931500\n",
       "71      3.539074\n",
       "689     3.602083\n",
       "266     3.680060\n",
       "387     3.426654\n",
       "279     3.653358\n",
       "110     3.451967\n",
       "1376    4.173861\n",
       "824     3.767989\n",
       "368     3.512529\n",
       "1529    4.002349\n",
       "1450    4.125844\n",
       "1009    3.891186\n",
       "1348    4.136855\n",
       "861     3.849130\n",
       "849     3.848094\n",
       "1687    4.196299\n",
       "296     3.648838\n",
       "1186    3.933365\n",
       "1117    3.935436\n",
       "1334    4.134321\n",
       "137     3.439574\n",
       "1737    4.435273\n",
       "847     3.849035\n",
       "752     3.722666\n",
       "          ...   \n",
       "1093    3.922382\n",
       "211     3.433139\n",
       "1099    3.946514\n",
       "621     3.409977\n",
       "675     3.566534\n",
       "1061    3.914086\n",
       "1480    4.134352\n",
       "192     3.421305\n",
       "679     3.591815\n",
       "614     3.378330\n",
       "684     3.608950\n",
       "135     3.442753\n",
       "90      3.422969\n",
       "1138    3.933470\n",
       "249     3.616386\n",
       "1375    4.173139\n",
       "1621    4.089389\n",
       "84      3.460509\n",
       "1344    4.129684\n",
       "945     3.852675\n",
       "1706    4.219022\n",
       "541     3.638941\n",
       "1616    4.086635\n",
       "956     3.886323\n",
       "1054    3.977753\n",
       "14      3.497324\n",
       "876     3.919157\n",
       "980     3.937037\n",
       "1135    3.946619\n",
       "722     3.615066\n",
       "Name: Adj Close, Length: 1220, dtype: float64"
      ]
     },
     "execution_count": 77,
     "metadata": {},
     "output_type": "execute_result"
    }
   ],
   "source": [
    "y_train"
   ]
  },
  {
   "cell_type": "code",
   "execution_count": 16,
   "metadata": {},
   "outputs": [
    {
     "data": {
      "text/plain": [
       "SVC(C=1.0, cache_size=200, class_weight=None, coef0=0.0,\n",
       "  decision_function_shape='ovr', degree=3, gamma='auto', kernel='rbf',\n",
       "  max_iter=-1, probability=False, random_state=None, shrinking=True,\n",
       "  tol=0.001, verbose=False)"
      ]
     },
     "execution_count": 16,
     "metadata": {},
     "output_type": "execute_result"
    }
   ],
   "source": [
    "model.fit(X_train,y_train)"
   ]
  },
  {
   "cell_type": "code",
   "execution_count": 17,
   "metadata": {
    "collapsed": true
   },
   "outputs": [],
   "source": [
    "pred = model.predict(X_test)"
   ]
  },
  {
   "cell_type": "code",
   "execution_count": 19,
   "metadata": {},
   "outputs": [
    {
     "name": "stdout",
     "output_type": "stream",
     "text": [
      "[[472   1]\n",
      " [ 51   0]]\n"
     ]
    }
   ],
   "source": [
    "print(confusion_matrix(y_test,pred))"
   ]
  },
  {
   "cell_type": "code",
   "execution_count": 20,
   "metadata": {
    "collapsed": true
   },
   "outputs": [],
   "source": [
    "predictions=model.predict(test_set)"
   ]
  },
  {
   "cell_type": "code",
   "execution_count": 21,
   "metadata": {},
   "outputs": [
    {
     "name": "stdout",
     "output_type": "stream",
     "text": [
      "93.2\n"
     ]
    }
   ],
   "source": [
    "print(accuracy_score(comp['MACD'],predictions)*100)"
   ]
  },
  {
   "cell_type": "code",
   "execution_count": 22,
   "metadata": {},
   "outputs": [
    {
     "name": "stdout",
     "output_type": "stream",
     "text": [
      "[[233   0]\n",
      " [ 17   0]]\n"
     ]
    }
   ],
   "source": [
    "print(confusion_matrix(comp['MACD'],predictions))"
   ]
  },
  {
   "cell_type": "code",
   "execution_count": null,
   "metadata": {
    "collapsed": true
   },
   "outputs": [],
   "source": []
  },
  {
   "cell_type": "code",
   "execution_count": 52,
   "metadata": {
    "collapsed": true
   },
   "outputs": [
    {
     "data": {
      "text/plain": [
       "array([54.59815003, 54.59815003, 54.59815003, 54.59815003, 54.59815003,\n",
       "       54.59815003, 54.59815003, 54.59815003, 54.59815003, 54.59815003,\n",
       "       54.59815003, 54.59815003, 54.59815003, 54.59815003, 54.59815003,\n",
       "       54.59815003, 54.59815003, 54.59815003, 54.59815003, 54.59815003,\n",
       "       54.59815003, 54.59815003, 54.59815003, 54.59815003, 54.59815003,\n",
       "       54.59815003, 54.59815003, 54.59815003, 54.59815003, 54.59815003,\n",
       "       54.59815003, 54.59815003, 54.59815003, 54.59815003, 54.59815003,\n",
       "       54.59815003, 54.59815003, 54.59815003, 54.59815003, 54.59815003,\n",
       "       54.59815003, 54.59815003, 54.59815003, 54.59815003, 54.59815003,\n",
       "       54.59815003, 54.59815003, 54.59815003, 54.59815003, 54.59815003,\n",
       "       54.59815003, 54.59815003, 54.59815003, 54.59815003, 54.59815003,\n",
       "       54.59815003, 54.59815003, 54.59815003, 54.59815003, 54.59815003,\n",
       "       54.59815003, 54.59815003, 54.59815003, 54.59815003, 54.59815003,\n",
       "       54.59815003, 54.59815003, 54.59815003, 54.59815003, 54.59815003,\n",
       "       54.59815003, 54.59815003, 54.59815003, 54.59815003, 54.59815003,\n",
       "       54.59815003, 54.59815003, 54.59815003, 54.59815003, 54.59815003,\n",
       "       54.59815003, 54.59815003, 54.59815003, 54.59815003, 54.59815003,\n",
       "       54.59815003, 54.59815003, 54.59815003, 54.59815003, 54.59815003,\n",
       "       54.59815003, 54.59815003, 54.59815003, 54.59815003, 54.59815003,\n",
       "       54.59815003, 54.59815003, 54.59815003, 54.59815003, 54.59815003,\n",
       "       54.59815003, 54.59815003, 54.59815003, 54.59815003, 54.59815003,\n",
       "       54.59815003, 54.59815003, 54.59815003, 54.59815003, 54.59815003,\n",
       "       54.59815003, 54.59815003, 54.59815003, 54.59815003, 54.59815003,\n",
       "       54.59815003, 54.59815003, 54.59815003, 54.59815003, 54.59815003,\n",
       "       54.59815003, 54.59815003, 54.59815003, 54.59815003, 54.59815003,\n",
       "       54.59815003, 54.59815003, 54.59815003, 54.59815003, 54.59815003,\n",
       "       54.59815003, 54.59815003, 54.59815003, 54.59815003, 54.59815003,\n",
       "       54.59815003, 54.59815003, 54.59815003, 54.59815003, 54.59815003,\n",
       "       54.59815003, 54.59815003, 54.59815003, 54.59815003, 54.59815003,\n",
       "       54.59815003, 54.59815003, 54.59815003, 54.59815003, 54.59815003,\n",
       "       54.59815003, 54.59815003, 54.59815003, 54.59815003, 54.59815003,\n",
       "       54.59815003, 54.59815003, 54.59815003, 54.59815003, 54.59815003,\n",
       "       54.59815003, 54.59815003, 54.59815003, 54.59815003, 54.59815003,\n",
       "       54.59815003, 54.59815003, 54.59815003, 54.59815003, 54.59815003,\n",
       "       54.59815003, 54.59815003, 54.59815003, 54.59815003, 54.59815003,\n",
       "       54.59815003, 54.59815003, 54.59815003, 54.59815003, 54.59815003,\n",
       "       54.59815003, 54.59815003, 54.59815003, 54.59815003, 54.59815003,\n",
       "       54.59815003, 54.59815003, 54.59815003, 54.59815003, 54.59815003,\n",
       "       54.59815003, 54.59815003, 54.59815003, 54.59815003, 54.59815003,\n",
       "       54.59815003, 54.59815003, 54.59815003, 54.59815003, 54.59815003,\n",
       "       54.59815003, 54.59815003, 54.59815003, 54.59815003, 54.59815003,\n",
       "       54.59815003, 54.59815003, 54.59815003, 54.59815003, 54.59815003,\n",
       "       54.59815003, 54.59815003, 54.59815003, 54.59815003, 54.59815003,\n",
       "       54.59815003, 54.59815003, 54.59815003, 54.59815003, 54.59815003,\n",
       "       54.59815003, 54.59815003, 54.59815003, 54.59815003, 54.59815003,\n",
       "       54.59815003, 54.59815003, 54.59815003, 54.59815003, 54.59815003,\n",
       "       54.59815003, 54.59815003, 54.59815003, 54.59815003, 54.59815003,\n",
       "       54.59815003, 54.59815003, 54.59815003, 54.59815003, 54.59815003,\n",
       "       54.59815003, 54.59815003, 54.59815003, 54.59815003, 54.59815003,\n",
       "       54.59815003, 54.59815003, 54.59815003, 54.59815003, 54.59815003])"
      ]
     },
     "execution_count": 52,
     "metadata": {},
     "output_type": "execute_result"
    }
   ],
   "source": [
    "np.exp(predictions)"
   ]
  },
  {
   "cell_type": "code",
   "execution_count": null,
   "metadata": {
    "collapsed": true
   },
   "outputs": [],
   "source": []
  }
 ],
 "metadata": {
  "kernelspec": {
   "display_name": "Python 3",
   "language": "python",
   "name": "python3"
  },
  "language_info": {
   "codemirror_mode": {
    "name": "ipython",
    "version": 3
   },
   "file_extension": ".py",
   "mimetype": "text/x-python",
   "name": "python",
   "nbconvert_exporter": "python",
   "pygments_lexer": "ipython3",
   "version": "3.6.4"
  }
 },
 "nbformat": 4,
 "nbformat_minor": 2
}
