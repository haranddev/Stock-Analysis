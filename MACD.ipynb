{
 "cells": [
  {
   "cell_type": "code",
   "execution_count": 1,
   "metadata": {},
   "outputs": [
    {
     "name": "stderr",
     "output_type": "stream",
     "text": [
      "/home/harsh/anaconda3/lib/python3.6/site-packages/matplotlib/cbook/deprecation.py:106: MatplotlibDeprecationWarning: The finance module has been deprecated in mpl 2.0 and will be removed in mpl 2.2. Please use the module mpl_finance instead.\n",
      "  warnings.warn(message, mplDeprecation, stacklevel=1)\n"
     ]
    }
   ],
   "source": [
    "import datetime as dt\n",
    "import matplotlib.pyplot as plt\n",
    "import pandas as pd\n",
    "import numpy as np\n",
    "import pandas_datareader.data as web\n",
    "from matplotlib.finance import candlestick_ohlc\n",
    "import matplotlib.dates as mdates\n",
    "import bs4 as bs\n",
    "import pickle\n",
    "import requests\n",
    "import mpld3\n",
    "mpld3.enable_notebook()\n",
    "%matplotlib inline"
   ]
  },
  {
   "cell_type": "code",
   "execution_count": 2,
   "metadata": {
    "collapsed": true
   },
   "outputs": [],
   "source": [
    "df_JPM=pd.read_csv('JPM1.csv')"
   ]
  },
  {
   "cell_type": "code",
   "execution_count": 28,
   "metadata": {
    "collapsed": true
   },
   "outputs": [],
   "source": [
    "fast_factor=2/(12+1)\n",
    "slow_factor=2/(26+1)\n",
    "signal_factor=2/(9+1)\n",
    "df=df_JPM\n",
    "df['26_EMA_Close']=df_JPM['Close'].ewm(span=26,adjust=False).mean()\n",
    "for index,row in df.iterrows():\n",
    "    df['Fast_EMA']=(df['Close']-df['26_EMA_Close'])*fast_factor+df['26_EMA_Close']\n",
    "    df['Slow_EMA']=(df['Close']-df['26_EMA_Close'])*slow_factor+df['26_EMA_Close']\n",
    "    df['Difference']=df['Fast_EMA']-df['Slow_EMA']    \n",
    "df['EMA_Difference']=df['Difference'].ewm(span=26,adjust=False).mean()\n",
    "signal=[]\n",
    "for index,row in df.iterrows():\n",
    "    signal.append((df.iloc[index]['Difference']-df.iloc[index]['EMA_Difference'])*\n",
    "                  signal_factor+df.iloc[index]['EMA_Difference'])\n",
    "df_signal=pd.DataFrame(list(zip(signal)),columns=['Signal'])\n",
    "df=pd.concat([df,df_signal],axis=1)\n",
    "df['Histogram']=df['Difference']-df['Signal']\n",
    "MACD=[]\n",
    "for index,row in df[1:].iterrows():\n",
    "    if df.iloc[index]['Histogram']>0 and df.iloc[index-1]['Histogram']<0:\n",
    "        MACD.append(1)\n",
    "    else:\n",
    "        MACD.append(0)\n",
    "df_MACD=pd.DataFrame(list(zip(MACD)),columns=['MACD'])\n",
    "df=pd.concat([df,df_MACD],axis=1)"
   ]
  },
  {
   "cell_type": "code",
   "execution_count": 80,
   "metadata": {},
   "outputs": [
    {
     "data": {
      "text/plain": [
       "0.0    1851\n",
       "1.0     162\n",
       "Name: MACD, dtype: int64"
      ]
     },
     "execution_count": 80,
     "metadata": {},
     "output_type": "execute_result"
    }
   ],
   "source": [
    "df['MACD'].value_counts()"
   ]
  },
  {
   "cell_type": "code",
   "execution_count": 84,
   "metadata": {
    "collapsed": true
   },
   "outputs": [],
   "source": [
    "df.to_csv('JPM1.csv')"
   ]
  }
 ],
 "metadata": {
  "kernelspec": {
   "display_name": "Python 3",
   "language": "python",
   "name": "python3"
  },
  "language_info": {
   "codemirror_mode": {
    "name": "ipython",
    "version": 3
   },
   "file_extension": ".py",
   "mimetype": "text/x-python",
   "name": "python",
   "nbconvert_exporter": "python",
   "pygments_lexer": "ipython3",
   "version": "3.6.3"
  }
 },
 "nbformat": 4,
 "nbformat_minor": 2
}
